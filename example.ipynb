{
 "cells": [
  {
   "cell_type": "code",
   "execution_count": null,
   "id": "facc413d",
   "metadata": {},
   "outputs": [],
   "source": [
    "import pandas as pd\n",
    "from pathlib import Path"
   ]
  },
  {
   "cell_type": "code",
   "execution_count": null,
   "id": "2255c919",
   "metadata": {},
   "outputs": [],
   "source": [
    "from agent.scalable_model import ScalableModel\n",
    "from agent.data_downloader import get_data\n",
    "from tics_config import tics_176\n",
    "from agent.helper import plot"
   ]
  },
  {
   "cell_type": "markdown",
   "id": "bcafcb31",
   "metadata": {},
   "source": [
    "# Dowload Data"
   ]
  },
  {
   "cell_type": "code",
   "execution_count": null,
   "id": "3283f6e1",
   "metadata": {},
   "outputs": [],
   "source": [
    "tics = tics_176\n",
    "train_start_date= '2009-01-01'\n",
    "train_end_date= '2020-07-01'\n",
    "test_start_date= '2020-07-01'\n",
    "test_end_date= '2024-10-01'\n",
    "config = ... #TODO"
   ]
  },
  {
   "cell_type": "code",
   "execution_count": null,
   "id": "8b62f495",
   "metadata": {},
   "outputs": [],
   "source": [
    "data = get_data(tics, train_start_date, test_end_date)"
   ]
  },
  {
   "cell_type": "markdown",
   "id": "4a964db3",
   "metadata": {},
   "source": [
    "# Create model"
   ]
  },
  {
   "cell_type": "code",
   "execution_count": null,
   "id": "7f1da7e6",
   "metadata": {},
   "outputs": [],
   "source": [
    "model = ScalableModel(config)\n",
    "model.load_data(data)"
   ]
  },
  {
   "cell_type": "markdown",
   "id": "4d6ca234",
   "metadata": {},
   "source": [
    "# split tics into groups"
   ]
  },
  {
   "cell_type": "code",
   "execution_count": null,
   "id": "e55141a2",
   "metadata": {},
   "outputs": [],
   "source": [
    "tics_grouped = model.split(tics, train_start_date, train_end_date)"
   ]
  },
  {
   "cell_type": "markdown",
   "id": "885b5d31",
   "metadata": {},
   "source": [
    "# Train sub models"
   ]
  },
  {
   "cell_type": "code",
   "execution_count": null,
   "id": "953613fd",
   "metadata": {},
   "outputs": [],
   "source": [
    "for tics_group in tics_grouped:\n",
    "    model.train_sub(tics_group, train_start_date, train_end_date)\n"
   ]
  },
  {
   "cell_type": "markdown",
   "id": "ebd25112",
   "metadata": {},
   "source": [
    "# (optional) Test sub models"
   ]
  },
  {
   "cell_type": "code",
   "execution_count": null,
   "id": "6768d8eb",
   "metadata": {},
   "outputs": [],
   "source": [
    "sub_test_result = model.test_sub(tics_grouped[0], test_start_date, test_end_date)"
   ]
  },
  {
   "cell_type": "markdown",
   "id": "1fa379be",
   "metadata": {},
   "source": [
    "# Train the manger"
   ]
  },
  {
   "cell_type": "code",
   "execution_count": null,
   "id": "77fdaff9",
   "metadata": {},
   "outputs": [],
   "source": [
    "model.train(tics, train_start_date, train_end_date)"
   ]
  },
  {
   "cell_type": "markdown",
   "id": "8acae6f4",
   "metadata": {},
   "source": [
    "# Test the model (back test)"
   ]
  },
  {
   "cell_type": "code",
   "execution_count": null,
   "id": "87a1c714",
   "metadata": {},
   "outputs": [],
   "source": [
    "manager_result = model.test(test_start_date, test_end_date, backtest=False, weights=False, valuse=True)\n",
    "manger_values = manager_result['account_values']\n",
    "\n",
    "manager_result['backtest']"
   ]
  },
  {
   "cell_type": "markdown",
   "id": "20780404",
   "metadata": {},
   "source": [
    "# Test the model (Compart acount values)"
   ]
  },
  {
   "cell_type": "code",
   "execution_count": null,
   "id": "ad997d2a",
   "metadata": {},
   "outputs": [],
   "source": [
    "sub_values = []\n",
    "\n",
    "for tics_group in tics_grouped:\n",
    "    sub_values.append(model.test_sub(tics_group, test_start_date, test_end_date, backtest=False, weights=False, valuse=True))\n",
    "\n",
    "df_baseline = pd.read_csv(Path(\"acount_value\") / \"dow_jones_data.csv\")[['close', 'date']].rename(columns={'close': 'account_value'})\n",
    "fig1, fig2 = plot(df_baseline, sub_values, manager_result, test_start_date, test_end_date)"
   ]
  },
  {
   "cell_type": "code",
   "execution_count": null,
   "id": "46d3fe66",
   "metadata": {},
   "outputs": [],
   "source": [
    "fig1.show()"
   ]
  },
  {
   "cell_type": "code",
   "execution_count": null,
   "id": "596d8657",
   "metadata": {},
   "outputs": [],
   "source": [
    "fig2.show()"
   ]
  }
 ],
 "metadata": {
  "language_info": {
   "name": "python"
  }
 },
 "nbformat": 4,
 "nbformat_minor": 5
}
