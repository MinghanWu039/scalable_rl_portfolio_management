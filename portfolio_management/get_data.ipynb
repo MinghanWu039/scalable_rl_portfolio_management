{
 "cells": [
  {
   "cell_type": "code",
   "execution_count": 4,
   "metadata": {},
   "outputs": [],
   "source": [
    "import yfinance as yf\n",
    "import pandas as pd\n",
    "from curl_cffi import requests"
   ]
  },
  {
   "cell_type": "code",
   "execution_count": null,
   "metadata": {},
   "outputs": [
    {
     "name": "stderr",
     "output_type": "stream",
     "text": [
      "[*********************100%***********************]  1 of 1 completed"
     ]
    },
    {
     "name": "stdout",
     "output_type": "stream",
     "text": [
      "Price              Close          High           Low          Open     Volume\n",
      "Ticker              ^DJI          ^DJI          ^DJI          ^DJI       ^DJI\n",
      "Date                                                                         \n",
      "2008-01-02  13043.959961  13279.540039  12991.370117  13261.820312  239580000\n",
      "2008-01-03  13056.719727  13137.929688  13023.559570  13044.120117  200620000\n",
      "2008-01-04  12800.179688  13046.719727  12789.040039  13046.559570  304210000\n",
      "2008-01-07  12827.490234  12884.150391  12733.839844  12801.150391  306700000\n",
      "2008-01-08  12589.070312  12906.419922  12565.410156  12820.900391  322690000\n"
     ]
    },
    {
     "name": "stderr",
     "output_type": "stream",
     "text": [
      "\n"
     ]
    }
   ],
   "source": [
    "session = requests.Session(impersonate=\"chrome\")\n",
    "\n",
    "# Download Dow Jones index data\n",
    "dow_jones_data = yf.download('^DJI', start='2008-01-01', end='2024-01-01', session=session)\n",
    "dow_jones_data = dow_jones_data.xs('^DJI', axis=1, level=1)"
   ]
  },
  {
   "cell_type": "code",
   "execution_count": 19,
   "metadata": {},
   "outputs": [],
   "source": [
    "dow_jones_data_processed = dow_jones_data.reset_index().rename(\n",
    "    columns={\n",
    "        \"Date\": \"date\",\n",
    "        \"Adj Close\": \"adjcp\",\n",
    "        \"Close\": \"close\",\n",
    "        \"High\": \"high\",\n",
    "        \"Low\": \"low\",\n",
    "        \"Volume\": \"volume\",\n",
    "        \"Open\": \"open\",\n",
    "        \"tic\": \"tic\",\n",
    "    })"
   ]
  },
  {
   "cell_type": "code",
   "execution_count": 21,
   "metadata": {},
   "outputs": [],
   "source": [
    "dow_jones_data_processed.to_csv('data/dow_jones_data.csv', index=True)"
   ]
  },
  {
   "cell_type": "code",
   "execution_count": null,
   "metadata": {},
   "outputs": [],
   "source": []
  }
 ],
 "metadata": {
  "kernelspec": {
   "display_name": "ai4finance",
   "language": "python",
   "name": "python3"
  },
  "language_info": {
   "codemirror_mode": {
    "name": "ipython",
    "version": 3
   },
   "file_extension": ".py",
   "mimetype": "text/x-python",
   "name": "python",
   "nbconvert_exporter": "python",
   "pygments_lexer": "ipython3",
   "version": "3.8.20"
  }
 },
 "nbformat": 4,
 "nbformat_minor": 2
}
