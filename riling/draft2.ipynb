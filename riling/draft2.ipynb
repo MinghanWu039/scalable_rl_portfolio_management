{
 "cells": [
  {
   "cell_type": "code",
   "execution_count": 1,
   "id": "c62e72d2",
   "metadata": {},
   "outputs": [],
   "source": [
    "%load_ext autoreload\n",
    "%autoreload 2"
   ]
  },
  {
   "cell_type": "code",
   "execution_count": 2,
   "id": "9a26858e",
   "metadata": {},
   "outputs": [],
   "source": [
    "import numpy as np\n",
    "import pandas as pd\n",
    "from pathlib import Path"
   ]
  },
  {
   "cell_type": "code",
   "execution_count": 3,
   "id": "ae34705c",
   "metadata": {},
   "outputs": [],
   "source": [
    "import sys\n",
    "sys.path.append(\"/dsmlp/home-fs04/19/019/riling/scalable_rl_portfolio_management\")\n"
   ]
  },
  {
   "cell_type": "code",
   "execution_count": 4,
   "id": "440857cb",
   "metadata": {},
   "outputs": [],
   "source": [
    "from tics.tic_config import tics_176, tics_grouped\n",
    "from agent.data_downloader import short_name_sha256"
   ]
  },
  {
   "cell_type": "code",
   "execution_count": 5,
   "id": "d23259d4",
   "metadata": {},
   "outputs": [],
   "source": [
    "tics = tics_176\n",
    "train_start_date= '2009-01-01'\n",
    "train_end_date= '2020-07-01'\n",
    "test_start_date= '2020-07-01'\n",
    "test_end_date= '2021-10-01'"
   ]
  },
  {
   "cell_type": "code",
   "execution_count": 6,
   "id": "c5bd4196",
   "metadata": {},
   "outputs": [],
   "source": [
    "start = train_start_date\n",
    "end = test_end_date"
   ]
  },
  {
   "cell_type": "code",
   "execution_count": 97,
   "id": "aaed4541",
   "metadata": {},
   "outputs": [],
   "source": [
    "def compute_portfolio_ohlcv_with_values(\n",
    "    tics_df: pd.DataFrame,\n",
    "    weights_df: pd.DataFrame,\n",
    "    value_df: pd.DataFrame,\n",
    "    name: str\n",
    ") -> pd.DataFrame:\n",
    "    \"\"\"\n",
    "    计算组合 OHLCV：\n",
    "      - 跳过首日\n",
    "      - open 使用前一日收盘市值（cap_prev）\n",
    "      - 持仓股数 = 当日开盘可投资资本 / 当日开盘价\n",
    "      - high = 现金 + Σ(shares * 当日high)\n",
    "      - low  = 现金 + Σ(shares * 当日low)\n",
    "      - close = 当日收盘市值（account_value）\n",
    "      - volume = Σ(shares * 当日volume)\n",
    "    \"\"\"\n",
    "    # 重命名并转换日期列\n",
    "    weights_df = weights_df.rename(columns={'dates':'date'})\n",
    "    for df in (tics_df, weights_df, value_df):\n",
    "        df['date'] = pd.to_datetime(df['date'])\n",
    "\n",
    "    # 准备账户价值和前一日资本\n",
    "    val = (\n",
    "        value_df[['date','account_value']]\n",
    "        .drop_duplicates()\n",
    "        .sort_values('date')\n",
    "        .set_index('date')\n",
    "    )\n",
    "    val['cap_prev'] = val['account_value'].shift(1)\n",
    "\n",
    "    # 解析权重数组\n",
    "    def parse_weights(s: str):\n",
    "        return np.array([float(x) for x in s.strip('[]').split()])\n",
    "\n",
    "    wdf = (\n",
    "        weights_df\n",
    "        .assign(w_arr=lambda d: d['weights'].apply(parse_weights))\n",
    "        .sort_values('date')\n",
    "        .reset_index(drop=True)\n",
    "    )\n",
    "\n",
    "    records = []\n",
    "    # 遍历日期，跳过首日和末日\n",
    "    for i in range(1, len(wdf)-1):\n",
    "        date = wdf.at[i, 'date']\n",
    "        cap_prev = val.at[date, 'cap_prev']\n",
    "        if pd.isna(cap_prev):\n",
    "            continue\n",
    "\n",
    "        # 使用前一日现金权重计算现金资本\n",
    "        prev_w_all = wdf.at[i-1, 'w_arr']\n",
    "        prev_cash = prev_w_all[0]\n",
    "        cash_cap = cap_prev * prev_cash\n",
    "        stock_cap = cap_prev - cash_cap\n",
    "\n",
    "        # 当日行情，按ticker排序\n",
    "        day = (\n",
    "            tics_df[tics_df['date']==date]\n",
    "            .sort_values('tic')\n",
    "            .reset_index(drop=True)\n",
    "        )\n",
    "        opens  = day['open'].values\n",
    "        highs  = day['high'].values\n",
    "        lows   = day['low'].values\n",
    "        vols   = day['volume'].values\n",
    "\n",
    "        # 计算持仓股数：全部股票资本按当日开盘執行\n",
    "        weights_stock = prev_w_all[1:]\n",
    "        shares = (weights_stock * stock_cap) / opens\n",
    "\n",
    "        # 计算 OHLCV\n",
    "        open_port   = cap_prev\n",
    "        high_port   = cash_cap + shares.dot(highs)\n",
    "        low_port    = cash_cap + shares.dot(lows)\n",
    "        close_port  = val.at[date, 'account_value']\n",
    "        volume_port = shares.dot(vols)\n",
    "\n",
    "        records.append({\n",
    "            'date':   date,\n",
    "            'open':   open_port,\n",
    "            'high':   high_port,\n",
    "            'low':    low_port,\n",
    "            'close':  close_port,\n",
    "            'volume': volume_port,\n",
    "            'tic':    name,\n",
    "            'day':    day['day'].iloc[0]\n",
    "        })\n",
    "\n",
    "    return pd.DataFrame(records)"
   ]
  },
  {
   "cell_type": "code",
   "execution_count": 75,
   "id": "84204aed",
   "metadata": {},
   "outputs": [],
   "source": [
    "# tics_data_file = Path(\"data\") / 'sub' / f\"{short_name_sha256('_'.join(tics_grouped[0]))}_{start}_{end}.csv\"\n",
    "# weights_data_file = Path(\"weights\") / f\"{short_name_sha256('_'.join(tics_grouped[0]))}_{start}_{end}.csv\""
   ]
  },
  {
   "cell_type": "code",
   "execution_count": 76,
   "id": "133be5e9",
   "metadata": {},
   "outputs": [],
   "source": [
    "# tics_df = pd.read_csv(tics_data_file) \n",
    "# weights_df = pd.read_csv(weights_data_file)"
   ]
  },
  {
   "cell_type": "code",
   "execution_count": 77,
   "id": "1e45559a",
   "metadata": {},
   "outputs": [],
   "source": [
    "# tics_df.head()"
   ]
  },
  {
   "cell_type": "code",
   "execution_count": 78,
   "id": "f1f4514e",
   "metadata": {},
   "outputs": [],
   "source": [
    "# weights_df.head()"
   ]
  },
  {
   "cell_type": "code",
   "execution_count": 79,
   "id": "9290ef34",
   "metadata": {},
   "outputs": [],
   "source": [
    "# df = compute_weighted_df_simple(tics_df, weights_df)"
   ]
  },
  {
   "cell_type": "code",
   "execution_count": 98,
   "id": "34cca9c3",
   "metadata": {},
   "outputs": [],
   "source": [
    "dfs = []\n",
    "tics = []\n",
    "for i in range(6):\n",
    "    tics += tics_grouped[i]\n",
    "    name = short_name_sha256('_'.join(tics_grouped[i]))\n",
    "    tics_data_file = Path(\"data\") / 'sub' / f\"{name}_{start}_{end}.csv\"\n",
    "    weights_data_file = Path(\"weights\") / f\"{name}_{start}_{end}.csv\"\n",
    "    vaulue_data_file = Path(\"acount_value\") / f\"{name}_{start}_{end}.csv\"\n",
    "    tics_df = pd.read_csv(tics_data_file).drop_duplicates()\n",
    "    weights_df = pd.read_csv(weights_data_file).drop_duplicates()\n",
    "    value_df = pd.read_csv(vaulue_data_file).drop_duplicates()\n",
    "    dfs.append(compute_portfolio_ohlcv_with_values(tics_df, weights_df, value_df, name))"
   ]
  },
  {
   "cell_type": "code",
   "execution_count": 99,
   "id": "85b8da2f",
   "metadata": {},
   "outputs": [
    {
     "data": {
      "text/plain": [
       "['e3b0c44298fc1c14',\n",
       " '8e2d0c61b0acc423',\n",
       " '56b6ea2e42d34e3e',\n",
       " '1e11175f3bd186fb',\n",
       " 'd725558425436f33',\n",
       " '51e648daa4892612']"
      ]
     },
     "execution_count": 99,
     "metadata": {},
     "output_type": "execute_result"
    }
   ],
   "source": [
    "tics = []\n",
    "for group in tics_grouped:\n",
    "    tics.append(short_name_sha256('_'.join(tics)))\n",
    "tics"
   ]
  },
  {
   "cell_type": "code",
   "execution_count": 107,
   "id": "3a265825",
   "metadata": {},
   "outputs": [],
   "source": [
    "pd.concat(dfs).to_csv(Path(\"data\") / \"weighted_avg\" / f\"{short_name_sha256('_'.join(tics))}_{start}_{end}.csv\", index=False)"
   ]
  },
  {
   "cell_type": "code",
   "execution_count": 108,
   "id": "2df6173f",
   "metadata": {},
   "outputs": [
    {
     "data": {
      "text/plain": [
       "'4d3dda9bdb14d5fc'"
      ]
     },
     "execution_count": 108,
     "metadata": {},
     "output_type": "execute_result"
    }
   ],
   "source": [
    "short_name_sha256('_'.join(tics))"
   ]
  },
  {
   "cell_type": "code",
   "execution_count": 109,
   "id": "0b75326d",
   "metadata": {},
   "outputs": [
    {
     "data": {
      "text/html": [
       "<div>\n",
       "<style scoped>\n",
       "    .dataframe tbody tr th:only-of-type {\n",
       "        vertical-align: middle;\n",
       "    }\n",
       "\n",
       "    .dataframe tbody tr th {\n",
       "        vertical-align: top;\n",
       "    }\n",
       "\n",
       "    .dataframe thead th {\n",
       "        text-align: right;\n",
       "    }\n",
       "</style>\n",
       "<table border=\"1\" class=\"dataframe\">\n",
       "  <thead>\n",
       "    <tr style=\"text-align: right;\">\n",
       "      <th></th>\n",
       "      <th>date</th>\n",
       "      <th>open</th>\n",
       "      <th>high</th>\n",
       "      <th>low</th>\n",
       "      <th>close</th>\n",
       "      <th>volume</th>\n",
       "      <th>tic</th>\n",
       "      <th>day</th>\n",
       "    </tr>\n",
       "  </thead>\n",
       "  <tbody>\n",
       "    <tr>\n",
       "      <th>0</th>\n",
       "      <td>2009-03-18</td>\n",
       "      <td>1037264.40</td>\n",
       "      <td>1.043336e+06</td>\n",
       "      <td>9.808129e+05</td>\n",
       "      <td>1056196.00</td>\n",
       "      <td>7.279017e+11</td>\n",
       "      <td>8190e4275b4db67d</td>\n",
       "      <td>2</td>\n",
       "    </tr>\n",
       "    <tr>\n",
       "      <th>1</th>\n",
       "      <td>2009-03-19</td>\n",
       "      <td>1056196.00</td>\n",
       "      <td>1.030768e+06</td>\n",
       "      <td>9.807336e+05</td>\n",
       "      <td>1040738.56</td>\n",
       "      <td>5.913058e+11</td>\n",
       "      <td>8190e4275b4db67d</td>\n",
       "      <td>3</td>\n",
       "    </tr>\n",
       "    <tr>\n",
       "      <th>2</th>\n",
       "      <td>2009-03-20</td>\n",
       "      <td>1040738.56</td>\n",
       "      <td>1.015272e+06</td>\n",
       "      <td>9.575858e+05</td>\n",
       "      <td>1018712.40</td>\n",
       "      <td>6.362306e+11</td>\n",
       "      <td>8190e4275b4db67d</td>\n",
       "      <td>4</td>\n",
       "    </tr>\n",
       "    <tr>\n",
       "      <th>3</th>\n",
       "      <td>2009-03-23</td>\n",
       "      <td>1018712.40</td>\n",
       "      <td>1.033204e+06</td>\n",
       "      <td>9.641281e+05</td>\n",
       "      <td>1098340.20</td>\n",
       "      <td>5.757913e+11</td>\n",
       "      <td>8190e4275b4db67d</td>\n",
       "      <td>0</td>\n",
       "    </tr>\n",
       "    <tr>\n",
       "      <th>4</th>\n",
       "      <td>2009-03-24</td>\n",
       "      <td>1098340.20</td>\n",
       "      <td>1.088860e+06</td>\n",
       "      <td>1.034994e+06</td>\n",
       "      <td>1080273.20</td>\n",
       "      <td>6.759440e+11</td>\n",
       "      <td>8190e4275b4db67d</td>\n",
       "      <td>1</td>\n",
       "    </tr>\n",
       "  </tbody>\n",
       "</table>\n",
       "</div>"
      ],
      "text/plain": [
       "         date        open          high           low       close  \\\n",
       "0  2009-03-18  1037264.40  1.043336e+06  9.808129e+05  1056196.00   \n",
       "1  2009-03-19  1056196.00  1.030768e+06  9.807336e+05  1040738.56   \n",
       "2  2009-03-20  1040738.56  1.015272e+06  9.575858e+05  1018712.40   \n",
       "3  2009-03-23  1018712.40  1.033204e+06  9.641281e+05  1098340.20   \n",
       "4  2009-03-24  1098340.20  1.088860e+06  1.034994e+06  1080273.20   \n",
       "\n",
       "         volume               tic  day  \n",
       "0  7.279017e+11  8190e4275b4db67d    2  \n",
       "1  5.913058e+11  8190e4275b4db67d    3  \n",
       "2  6.362306e+11  8190e4275b4db67d    4  \n",
       "3  5.757913e+11  8190e4275b4db67d    0  \n",
       "4  6.759440e+11  8190e4275b4db67d    1  "
      ]
     },
     "execution_count": 109,
     "metadata": {},
     "output_type": "execute_result"
    }
   ],
   "source": [
    "df = pd.read_csv(Path(\"data\") / \"weighted_avg\" / f\"{short_name_sha256('_'.join(tics))}_{start}_{end}.csv\")\n",
    "df.head()"
   ]
  },
  {
   "cell_type": "code",
   "execution_count": 110,
   "id": "22dddb45",
   "metadata": {},
   "outputs": [
    {
     "data": {
      "text/plain": [
       "1494"
      ]
     },
     "execution_count": 110,
     "metadata": {},
     "output_type": "execute_result"
    }
   ],
   "source": [
    "(df['high'] >= df['close']).sum()"
   ]
  },
  {
   "cell_type": "code",
   "execution_count": 37,
   "id": "6b67b8cc",
   "metadata": {},
   "outputs": [
    {
     "data": {
      "text/html": [
       "<div>\n",
       "<style scoped>\n",
       "    .dataframe tbody tr th:only-of-type {\n",
       "        vertical-align: middle;\n",
       "    }\n",
       "\n",
       "    .dataframe tbody tr th {\n",
       "        vertical-align: top;\n",
       "    }\n",
       "\n",
       "    .dataframe thead th {\n",
       "        text-align: right;\n",
       "    }\n",
       "</style>\n",
       "<table border=\"1\" class=\"dataframe\">\n",
       "  <thead>\n",
       "    <tr style=\"text-align: right;\">\n",
       "      <th></th>\n",
       "      <th>date</th>\n",
       "      <th>open</th>\n",
       "      <th>high</th>\n",
       "      <th>low</th>\n",
       "      <th>close</th>\n",
       "      <th>volume</th>\n",
       "      <th>tic</th>\n",
       "      <th>day</th>\n",
       "    </tr>\n",
       "  </thead>\n",
       "  <tbody>\n",
       "    <tr>\n",
       "      <th>0</th>\n",
       "      <td>2009-03-17</td>\n",
       "      <td>NaN</td>\n",
       "      <td>NaN</td>\n",
       "      <td>NaN</td>\n",
       "      <td>NaN</td>\n",
       "      <td>NaN</td>\n",
       "      <td>8190e4275b4db67d</td>\n",
       "      <td>1</td>\n",
       "    </tr>\n",
       "    <tr>\n",
       "      <th>1</th>\n",
       "      <td>2009-03-18</td>\n",
       "      <td>1037264.40</td>\n",
       "      <td>1.082763e+06</td>\n",
       "      <td>1.017705e+06</td>\n",
       "      <td>815405.919930</td>\n",
       "      <td>7.654346e+11</td>\n",
       "      <td>8190e4275b4db67d</td>\n",
       "      <td>2</td>\n",
       "    </tr>\n",
       "    <tr>\n",
       "      <th>2</th>\n",
       "      <td>2009-03-19</td>\n",
       "      <td>1056196.00</td>\n",
       "      <td>1.070319e+06</td>\n",
       "      <td>1.019540e+06</td>\n",
       "      <td>787467.878847</td>\n",
       "      <td>5.899449e+11</td>\n",
       "      <td>8190e4275b4db67d</td>\n",
       "      <td>3</td>\n",
       "    </tr>\n",
       "    <tr>\n",
       "      <th>3</th>\n",
       "      <td>2009-03-20</td>\n",
       "      <td>1040738.56</td>\n",
       "      <td>1.055686e+06</td>\n",
       "      <td>9.955721e+05</td>\n",
       "      <td>768107.717684</td>\n",
       "      <td>6.454607e+11</td>\n",
       "      <td>8190e4275b4db67d</td>\n",
       "      <td>4</td>\n",
       "    </tr>\n",
       "    <tr>\n",
       "      <th>4</th>\n",
       "      <td>2009-03-23</td>\n",
       "      <td>1018712.40</td>\n",
       "      <td>1.075351e+06</td>\n",
       "      <td>1.001907e+06</td>\n",
       "      <td>814658.470357</td>\n",
       "      <td>6.492611e+11</td>\n",
       "      <td>8190e4275b4db67d</td>\n",
       "      <td>0</td>\n",
       "    </tr>\n",
       "  </tbody>\n",
       "</table>\n",
       "</div>"
      ],
      "text/plain": [
       "         date        open          high           low          close  \\\n",
       "0  2009-03-17         NaN           NaN           NaN            NaN   \n",
       "1  2009-03-18  1037264.40  1.082763e+06  1.017705e+06  815405.919930   \n",
       "2  2009-03-19  1056196.00  1.070319e+06  1.019540e+06  787467.878847   \n",
       "3  2009-03-20  1040738.56  1.055686e+06  9.955721e+05  768107.717684   \n",
       "4  2009-03-23  1018712.40  1.075351e+06  1.001907e+06  814658.470357   \n",
       "\n",
       "         volume               tic  day  \n",
       "0           NaN  8190e4275b4db67d    1  \n",
       "1  7.654346e+11  8190e4275b4db67d    2  \n",
       "2  5.899449e+11  8190e4275b4db67d    3  \n",
       "3  6.454607e+11  8190e4275b4db67d    4  \n",
       "4  6.492611e+11  8190e4275b4db67d    0  "
      ]
     },
     "execution_count": 37,
     "metadata": {},
     "output_type": "execute_result"
    }
   ],
   "source": [
    "df = pd.read_csv(Path(\"data\") / \"weighted_avg\" / f\"{short_name_sha256('_'.join(tics))}_{start}_{end}.csv\")\n",
    "df.head()"
   ]
  },
  {
   "cell_type": "code",
   "execution_count": null,
   "id": "ef832d67",
   "metadata": {},
   "outputs": [],
   "source": []
  }
 ],
 "metadata": {
  "kernelspec": {
   "display_name": "ai4finance",
   "language": "python",
   "name": "python3"
  },
  "language_info": {
   "codemirror_mode": {
    "name": "ipython",
    "version": 3
   },
   "file_extension": ".py",
   "mimetype": "text/x-python",
   "name": "python",
   "nbconvert_exporter": "python",
   "pygments_lexer": "ipython3",
   "version": "3.8.20"
  }
 },
 "nbformat": 4,
 "nbformat_minor": 5
}
