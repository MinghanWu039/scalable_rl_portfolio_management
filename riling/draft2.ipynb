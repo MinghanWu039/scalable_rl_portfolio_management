{
 "cells": [
  {
   "cell_type": "code",
   "execution_count": 2,
   "id": "c62e72d2",
   "metadata": {},
   "outputs": [],
   "source": [
    "%load_ext autoreload\n",
    "%autoreload 2"
   ]
  },
  {
   "cell_type": "code",
   "execution_count": 3,
   "id": "9a26858e",
   "metadata": {},
   "outputs": [],
   "source": [
    "import numpy as np\n",
    "import pandas as pd\n",
    "from pathlib import Path"
   ]
  },
  {
   "cell_type": "code",
   "execution_count": 4,
   "id": "ae34705c",
   "metadata": {},
   "outputs": [],
   "source": [
    "import sys\n",
    "sys.path.append(\"/dsmlp/home-fs04/19/019/riling/scalable_rl_portfolio_management\")\n"
   ]
  },
  {
   "cell_type": "code",
   "execution_count": 5,
   "id": "440857cb",
   "metadata": {},
   "outputs": [],
   "source": [
    "from tics.tic_config import tics_176, tics_grouped\n",
    "from agent.data_downloader import short_name_sha256"
   ]
  },
  {
   "cell_type": "code",
   "execution_count": 6,
   "id": "d23259d4",
   "metadata": {},
   "outputs": [],
   "source": [
    "tics = tics_176\n",
    "train_start_date= '2009-01-01'\n",
    "train_end_date= '2020-07-01'\n",
    "test_start_date= '2020-07-01'\n",
    "test_end_date= '2021-10-01'"
   ]
  },
  {
   "cell_type": "code",
   "execution_count": 7,
   "id": "c5bd4196",
   "metadata": {},
   "outputs": [],
   "source": [
    "start = train_start_date\n",
    "end = test_end_date"
   ]
  },
  {
   "cell_type": "code",
   "execution_count": 8,
   "id": "aaed4541",
   "metadata": {},
   "outputs": [],
   "source": [
    "def compute_weighted_df_simple(tics_df: pd.DataFrame, weights_df: pd.DataFrame, name: str) -> pd.DataFrame:\n",
    "    \"\"\"\n",
    "    1. 解析空格分隔的权重字符串（如 \"[0.1 0.2 0.3]\"），去掉第一个元素；\n",
    "    2. 跳过 weights_df 的最后一行；\n",
    "    3. 对剩余权重重新归一化（sum=1）；\n",
    "    4. 按 tic 排序并计算加权平均，结果 'tic' 列统一为传入的 name。\n",
    "    \"\"\"\n",
    "    records = []\n",
    "    \n",
    "    def parse_space_weights(s: str) -> np.ndarray:\n",
    "        parts = s.strip('[]').split()\n",
    "        arr = np.array([float(x) for x in parts])\n",
    "        return arr[1:]\n",
    "    \n",
    "    # 解析并去掉首元素\n",
    "    weights_df = weights_df.copy()\n",
    "    weights_df['w_arr'] = weights_df['weights'].apply(parse_space_weights)\n",
    "    \n",
    "    # 跳过最后一行\n",
    "    for _, row in weights_df.iloc[:-1].iterrows():\n",
    "        date = row['dates']\n",
    "        w = row['w_arr']\n",
    "        \n",
    "        # 归一化\n",
    "        w = w / w.sum()\n",
    "        \n",
    "        df_day = tics_df[tics_df['date'] == date].sort_values('tic').reset_index(drop=True)\n",
    "        if len(w) != len(df_day):\n",
    "            raise ValueError(f\"{date}: 权重长度 {len(w)} != 股票数量 {len(df_day)}\")\n",
    "        \n",
    "        rec = {\n",
    "            'date': date,\n",
    "            'close':  np.dot(df_day['close'],   w),\n",
    "            'high':   np.dot(df_day['high'],    w),\n",
    "            'low':    np.dot(df_day['low'],     w),\n",
    "            'open':   np.dot(df_day['open'],    w),\n",
    "            'volume': np.dot(df_day['volume'],  w),\n",
    "            'tic':    name,\n",
    "            'day':    df_day['day'].iloc[0]\n",
    "        }\n",
    "        records.append(rec)\n",
    "    \n",
    "    return pd.DataFrame(records)\n"
   ]
  },
  {
   "cell_type": "code",
   "execution_count": 9,
   "id": "84204aed",
   "metadata": {},
   "outputs": [],
   "source": [
    "# tics_data_file = Path(\"data\") / 'sub' / f\"{short_name_sha256('_'.join(tics_grouped[0]))}_{start}_{end}.csv\"\n",
    "# weights_data_file = Path(\"weights\") / f\"{short_name_sha256('_'.join(tics_grouped[0]))}_{start}_{end}.csv\""
   ]
  },
  {
   "cell_type": "code",
   "execution_count": 10,
   "id": "133be5e9",
   "metadata": {},
   "outputs": [],
   "source": [
    "# tics_df = pd.read_csv(tics_data_file) \n",
    "# weights_df = pd.read_csv(weights_data_file)"
   ]
  },
  {
   "cell_type": "code",
   "execution_count": 11,
   "id": "1e45559a",
   "metadata": {},
   "outputs": [],
   "source": [
    "# tics_df.head()"
   ]
  },
  {
   "cell_type": "code",
   "execution_count": 21,
   "id": "f1f4514e",
   "metadata": {},
   "outputs": [],
   "source": [
    "# weights_df.head()"
   ]
  },
  {
   "cell_type": "code",
   "execution_count": 22,
   "id": "9290ef34",
   "metadata": {},
   "outputs": [],
   "source": [
    "# df = compute_weighted_df_simple(tics_df, weights_df)"
   ]
  },
  {
   "cell_type": "code",
   "execution_count": 23,
   "id": "34cca9c3",
   "metadata": {},
   "outputs": [],
   "source": [
    "dfs = []\n",
    "tics = []\n",
    "for i in range(6):\n",
    "    tics += tics_grouped[i]\n",
    "    name = short_name_sha256('_'.join(tics_grouped[i]))\n",
    "    tics_data_file = Path(\"data\") / 'sub' / f\"{name}_{start}_{end}.csv\"\n",
    "    weights_data_file = Path(\"weights\") / f\"{name}_{start}_{end}.csv\"\n",
    "    tics_df = pd.read_csv(tics_data_file) \n",
    "    weights_df = pd.read_csv(weights_data_file)\n",
    "    dfs.append(compute_weighted_df_simple(tics_df, weights_df, name))"
   ]
  },
  {
   "cell_type": "code",
   "execution_count": 24,
   "id": "85b8da2f",
   "metadata": {},
   "outputs": [
    {
     "data": {
      "text/plain": [
       "['e3b0c44298fc1c14',\n",
       " '8e2d0c61b0acc423',\n",
       " '56b6ea2e42d34e3e',\n",
       " '1e11175f3bd186fb',\n",
       " 'd725558425436f33',\n",
       " '51e648daa4892612']"
      ]
     },
     "execution_count": 24,
     "metadata": {},
     "output_type": "execute_result"
    }
   ],
   "source": [
    "tics = []\n",
    "for group in tics_grouped:\n",
    "    tics.append(short_name_sha256('_'.join(tics)))\n",
    "tics"
   ]
  },
  {
   "cell_type": "code",
   "execution_count": 25,
   "id": "3a265825",
   "metadata": {},
   "outputs": [],
   "source": [
    "pd.concat(dfs).to_csv(Path(\"data\") / \"weighted_avg\" / f\"{short_name_sha256('_'.join(tics))}_{start}_{end}.csv\", index=False)"
   ]
  },
  {
   "cell_type": "code",
   "execution_count": 27,
   "id": "6b67b8cc",
   "metadata": {},
   "outputs": [],
   "source": [
    "df = pd.read_csv(Path(\"data\") / \"weighted_avg\" / f\"{short_name_sha256('_'.join(tics))}_{start}_{end}.csv\")"
   ]
  },
  {
   "cell_type": "code",
   "execution_count": 31,
   "id": "f37adbf4",
   "metadata": {},
   "outputs": [
    {
     "data": {
      "text/plain": [
       "6"
      ]
     },
     "execution_count": 31,
     "metadata": {},
     "output_type": "execute_result"
    }
   ],
   "source": [
    "df.groupby('date').count().max().max()"
   ]
  },
  {
   "cell_type": "code",
   "execution_count": 30,
   "id": "5218a08f",
   "metadata": {},
   "outputs": [
    {
     "data": {
      "text/html": [
       "<div>\n",
       "<style scoped>\n",
       "    .dataframe tbody tr th:only-of-type {\n",
       "        vertical-align: middle;\n",
       "    }\n",
       "\n",
       "    .dataframe tbody tr th {\n",
       "        vertical-align: top;\n",
       "    }\n",
       "\n",
       "    .dataframe thead th {\n",
       "        text-align: right;\n",
       "    }\n",
       "</style>\n",
       "<table border=\"1\" class=\"dataframe\">\n",
       "  <thead>\n",
       "    <tr style=\"text-align: right;\">\n",
       "      <th></th>\n",
       "      <th>date</th>\n",
       "      <th>close</th>\n",
       "      <th>high</th>\n",
       "      <th>low</th>\n",
       "      <th>open</th>\n",
       "      <th>volume</th>\n",
       "      <th>tic</th>\n",
       "      <th>day</th>\n",
       "    </tr>\n",
       "  </thead>\n",
       "  <tbody>\n",
       "    <tr>\n",
       "      <th>0</th>\n",
       "      <td>2009-03-17</td>\n",
       "      <td>17.285871</td>\n",
       "      <td>25.062188</td>\n",
       "      <td>23.804299</td>\n",
       "      <td>24.062443</td>\n",
       "      <td>8.016490e+06</td>\n",
       "      <td>8190e4275b4db67d</td>\n",
       "      <td>1</td>\n",
       "    </tr>\n",
       "    <tr>\n",
       "      <th>6318</th>\n",
       "      <td>2009-03-17</td>\n",
       "      <td>15.297194</td>\n",
       "      <td>20.241047</td>\n",
       "      <td>19.431726</td>\n",
       "      <td>19.692479</td>\n",
       "      <td>1.512914e+07</td>\n",
       "      <td>8d1de7fe38361930</td>\n",
       "      <td>1</td>\n",
       "    </tr>\n",
       "    <tr>\n",
       "      <th>12636</th>\n",
       "      <td>2009-03-17</td>\n",
       "      <td>15.605380</td>\n",
       "      <td>20.138504</td>\n",
       "      <td>19.313036</td>\n",
       "      <td>19.558396</td>\n",
       "      <td>9.762734e+07</td>\n",
       "      <td>ab78604f0f30eea2</td>\n",
       "      <td>1</td>\n",
       "    </tr>\n",
       "    <tr>\n",
       "      <th>9477</th>\n",
       "      <td>2009-03-17</td>\n",
       "      <td>14.238356</td>\n",
       "      <td>18.192834</td>\n",
       "      <td>17.255940</td>\n",
       "      <td>17.414609</td>\n",
       "      <td>7.752128e+06</td>\n",
       "      <td>4fd6d6fada6e8ad6</td>\n",
       "      <td>1</td>\n",
       "    </tr>\n",
       "    <tr>\n",
       "      <th>3159</th>\n",
       "      <td>2009-03-17</td>\n",
       "      <td>8.595474</td>\n",
       "      <td>9.796990</td>\n",
       "      <td>9.342103</td>\n",
       "      <td>9.578043</td>\n",
       "      <td>2.426194e+06</td>\n",
       "      <td>6439ac4bce64a477</td>\n",
       "      <td>1</td>\n",
       "    </tr>\n",
       "  </tbody>\n",
       "</table>\n",
       "</div>"
      ],
      "text/plain": [
       "             date      close       high        low       open        volume  \\\n",
       "0      2009-03-17  17.285871  25.062188  23.804299  24.062443  8.016490e+06   \n",
       "6318   2009-03-17  15.297194  20.241047  19.431726  19.692479  1.512914e+07   \n",
       "12636  2009-03-17  15.605380  20.138504  19.313036  19.558396  9.762734e+07   \n",
       "9477   2009-03-17  14.238356  18.192834  17.255940  17.414609  7.752128e+06   \n",
       "3159   2009-03-17   8.595474   9.796990   9.342103   9.578043  2.426194e+06   \n",
       "\n",
       "                    tic  day  \n",
       "0      8190e4275b4db67d    1  \n",
       "6318   8d1de7fe38361930    1  \n",
       "12636  ab78604f0f30eea2    1  \n",
       "9477   4fd6d6fada6e8ad6    1  \n",
       "3159   6439ac4bce64a477    1  "
      ]
     },
     "execution_count": 30,
     "metadata": {},
     "output_type": "execute_result"
    }
   ],
   "source": [
    "df.sort_values('date').head()"
   ]
  },
  {
   "cell_type": "code",
   "execution_count": 12,
   "id": "8f39668e",
   "metadata": {},
   "outputs": [
    {
     "data": {
      "text/plain": [
       "'15694139a6dae4a8'"
      ]
     },
     "execution_count": 12,
     "metadata": {},
     "output_type": "execute_result"
    }
   ],
   "source": [
    "short_name_sha256('_'.join(tics_grouped[5]))"
   ]
  },
  {
   "cell_type": "code",
   "execution_count": null,
   "id": "030f8fd8",
   "metadata": {},
   "outputs": [],
   "source": []
  }
 ],
 "metadata": {
  "kernelspec": {
   "display_name": "ai4finance",
   "language": "python",
   "name": "python3"
  },
  "language_info": {
   "codemirror_mode": {
    "name": "ipython",
    "version": 3
   },
   "file_extension": ".py",
   "mimetype": "text/x-python",
   "name": "python",
   "nbconvert_exporter": "python",
   "pygments_lexer": "ipython3",
   "version": "3.8.20"
  }
 },
 "nbformat": 4,
 "nbformat_minor": 5
}
