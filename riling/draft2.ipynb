{
 "cells": [
  {
   "cell_type": "code",
   "execution_count": 5,
   "id": "c62e72d2",
   "metadata": {},
   "outputs": [
    {
     "name": "stdout",
     "output_type": "stream",
     "text": [
      "The autoreload extension is already loaded. To reload it, use:\n",
      "  %reload_ext autoreload\n"
     ]
    }
   ],
   "source": [
    "%load_ext autoreload\n",
    "%autoreload 2"
   ]
  },
  {
   "cell_type": "code",
   "execution_count": 6,
   "id": "9a26858e",
   "metadata": {},
   "outputs": [],
   "source": [
    "import numpy as np\n",
    "import pandas as pd\n",
    "from pathlib import Path"
   ]
  },
  {
   "cell_type": "code",
   "execution_count": 7,
   "id": "ae34705c",
   "metadata": {},
   "outputs": [],
   "source": [
    "import sys\n",
    "sys.path.append(\"/dsmlp/home-fs04/19/019/riling/scalable_rl_portfolio_management\")\n"
   ]
  },
  {
   "cell_type": "code",
   "execution_count": 9,
   "id": "440857cb",
   "metadata": {},
   "outputs": [],
   "source": [
    "from tics.tic_config import tics_176, tics_grouped\n",
    "from agent.data_downloader import short_name_sha256"
   ]
  },
  {
   "cell_type": "code",
   "execution_count": 10,
   "id": "d23259d4",
   "metadata": {},
   "outputs": [],
   "source": [
    "tics = tics_176\n",
    "train_start_date= '2009-01-01'\n",
    "train_end_date= '2020-07-01'\n",
    "test_start_date= '2020-07-01'\n",
    "test_end_date= '2021-10-01'"
   ]
  },
  {
   "cell_type": "code",
   "execution_count": 11,
   "id": "c5bd4196",
   "metadata": {},
   "outputs": [],
   "source": [
    "start = train_start_date\n",
    "end = test_end_date"
   ]
  },
  {
   "cell_type": "code",
   "execution_count": 27,
   "id": "34cca9c3",
   "metadata": {},
   "outputs": [],
   "source": [
    "dfs = []\n",
    "tics = []\n",
    "for i in range(6):\n",
    "    tics += tics_grouped[i]\n",
    "    tics_data_file = Path(\"data\") / 'sub' / f\"{short_name_sha256('_'.join(tics_grouped[i]))}_{start}_{end}.csv\"\n",
    "    tics_df = pd.read_csv(tics_data_file) \n",
    "    dfs.append(tics_df)"
   ]
  },
  {
   "cell_type": "code",
   "execution_count": 28,
   "id": "3a265825",
   "metadata": {},
   "outputs": [],
   "source": [
    "pd.concat(dfs).to_csv(Path(\"data\") / \"grouped\" / f\"{short_name_sha256('_'.join(tics_176))}_{start}_{end}.csv\", index=False)"
   ]
  },
  {
   "cell_type": "code",
   "execution_count": null,
   "id": "85b8da2f",
   "metadata": {},
   "outputs": [],
   "source": []
  }
 ],
 "metadata": {
  "kernelspec": {
   "display_name": "ai4finance",
   "language": "python",
   "name": "python3"
  },
  "language_info": {
   "codemirror_mode": {
    "name": "ipython",
    "version": 3
   },
   "file_extension": ".py",
   "mimetype": "text/x-python",
   "name": "python",
   "nbconvert_exporter": "python",
   "pygments_lexer": "ipython3",
   "version": "3.8.20"
  }
 },
 "nbformat": 4,
 "nbformat_minor": 5
}
