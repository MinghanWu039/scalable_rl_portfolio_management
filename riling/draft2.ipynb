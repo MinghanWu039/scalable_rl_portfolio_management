{
 "cells": [
  {
   "cell_type": "code",
   "execution_count": 2,
   "id": "c62e72d2",
   "metadata": {},
   "outputs": [],
   "source": [
    "%load_ext autoreload\n",
    "%autoreload 2"
   ]
  },
  {
   "cell_type": "code",
   "execution_count": 3,
   "id": "9a26858e",
   "metadata": {},
   "outputs": [],
   "source": [
    "import numpy as np\n",
    "import pandas as pd\n",
    "from pathlib import Path"
   ]
  },
  {
   "cell_type": "code",
   "execution_count": 4,
   "id": "ae34705c",
   "metadata": {},
   "outputs": [],
   "source": [
    "import sys\n",
    "sys.path.append(\"/dsmlp/home-fs04/19/019/riling/scalable_rl_portfolio_management\")\n"
   ]
  },
  {
   "cell_type": "code",
   "execution_count": 5,
   "id": "440857cb",
   "metadata": {},
   "outputs": [],
   "source": [
    "from tics.tic_config import tics_176, tics_grouped\n",
    "from agent.data_downloader import short_name_sha256"
   ]
  },
  {
   "cell_type": "code",
   "execution_count": 6,
   "id": "d23259d4",
   "metadata": {},
   "outputs": [],
   "source": [
    "tics = tics_176\n",
    "train_start_date= '2009-01-01'\n",
    "train_end_date= '2020-07-01'\n",
    "test_start_date= '2020-07-01'\n",
    "test_end_date= '2021-10-01'"
   ]
  },
  {
   "cell_type": "code",
   "execution_count": 7,
   "id": "c5bd4196",
   "metadata": {},
   "outputs": [],
   "source": [
    "start = train_start_date\n",
    "end = test_end_date"
   ]
  },
  {
   "cell_type": "code",
   "execution_count": 7,
   "id": "aaed4541",
   "metadata": {},
   "outputs": [],
   "source": [
    "def compute_portfolio_ohlcv_with_values(\n",
    "    tics_df: pd.DataFrame,\n",
    "    weights_df: pd.DataFrame,\n",
    "    value_df: pd.DataFrame,\n",
    "    name: str\n",
    ") -> pd.DataFrame:\n",
    "    \"\"\"\n",
    "    计算组合 OHLCV：\n",
    "      - 跳过首日\n",
    "      - open 使用前一日收盘市值（cap_prev）\n",
    "      - 持仓股数 = 当日开盘可投资资本 / 当日开盘价\n",
    "      - high = 现金 + Σ(shares * 当日high)\n",
    "      - low  = 现金 + Σ(shares * 当日low)\n",
    "      - close = 当日收盘市值（account_value）\n",
    "      - volume = Σ(shares * 当日volume)\n",
    "    \"\"\"\n",
    "    # 重命名并转换日期列\n",
    "    weights_df = weights_df.rename(columns={'dates':'date'})\n",
    "    for df in (tics_df, weights_df, value_df):\n",
    "        df['date'] = pd.to_datetime(df['date'])\n",
    "\n",
    "    # 准备账户价值和前一日资本\n",
    "    val = (\n",
    "        value_df[['date','account_value']]\n",
    "        .drop_duplicates()\n",
    "        .sort_values('date')\n",
    "        .set_index('date')\n",
    "    )\n",
    "    val['cap_prev'] = val['account_value'].shift(1)\n",
    "\n",
    "    # 解析权重数组\n",
    "    def parse_weights(s: str):\n",
    "        return np.array([float(x) for x in s.strip('[]').split()])\n",
    "\n",
    "    wdf = (\n",
    "        weights_df\n",
    "        .assign(w_arr=lambda d: d['weights'].apply(parse_weights))\n",
    "        .sort_values('date')\n",
    "        .reset_index(drop=True)\n",
    "    )\n",
    "\n",
    "    records = []\n",
    "    # 遍历日期，跳过首日和末日\n",
    "    for i in range(1, len(wdf)-1):\n",
    "        date = wdf.at[i, 'date']\n",
    "        cap_prev = val.at[date, 'cap_prev']\n",
    "        if pd.isna(cap_prev):\n",
    "            continue\n",
    "\n",
    "        # 使用前一日现金权重计算现金资本\n",
    "        prev_w_all = wdf.at[i-1, 'w_arr']\n",
    "        prev_cash = prev_w_all[0]\n",
    "        cash_cap = cap_prev * prev_cash\n",
    "        stock_cap = cap_prev - cash_cap\n",
    "\n",
    "        # 当日行情，按ticker排序\n",
    "        day = (\n",
    "            tics_df[tics_df['date']==date]\n",
    "            .sort_values('tic')\n",
    "            .reset_index(drop=True)\n",
    "        )\n",
    "        opens  = day['open'].values\n",
    "        highs  = day['high'].values\n",
    "        lows   = day['low'].values\n",
    "        vols   = day['volume'].values\n",
    "\n",
    "        # 计算持仓股数：全部股票资本按当日开盘執行\n",
    "        weights_stock = prev_w_all[1:]\n",
    "        shares = (weights_stock * stock_cap) / opens\n",
    "\n",
    "        # 计算 OHLCV\n",
    "        open_port   = cap_prev\n",
    "        high_port   = cash_cap + shares.dot(highs)\n",
    "        low_port    = cash_cap + shares.dot(lows)\n",
    "        close_port  = val.at[date, 'account_value']\n",
    "        volume_port = shares.dot(vols)\n",
    "\n",
    "        records.append({\n",
    "            'date':   date,\n",
    "            'open':   open_port,\n",
    "            'high':   high_port,\n",
    "            'low':    low_port,\n",
    "            'close':  close_port,\n",
    "            'volume': volume_port,\n",
    "            'tic':    name,\n",
    "            'day':    day['day'].iloc[0]\n",
    "        })\n",
    "\n",
    "    return pd.DataFrame(records)"
   ]
  },
  {
   "cell_type": "code",
   "execution_count": 8,
   "id": "84204aed",
   "metadata": {},
   "outputs": [],
   "source": [
    "# tics_data_file = Path(\"data\") / 'sub' / f\"{short_name_sha256('_'.join(tics_grouped[0]))}_{start}_{end}.csv\"\n",
    "# weights_data_file = Path(\"weights\") / f\"{short_name_sha256('_'.join(tics_grouped[0]))}_{start}_{end}.csv\""
   ]
  },
  {
   "cell_type": "code",
   "execution_count": 9,
   "id": "133be5e9",
   "metadata": {},
   "outputs": [],
   "source": [
    "# tics_df = pd.read_csv(tics_data_file) \n",
    "# weights_df = pd.read_csv(weights_data_file)"
   ]
  },
  {
   "cell_type": "code",
   "execution_count": 10,
   "id": "1e45559a",
   "metadata": {},
   "outputs": [],
   "source": [
    "# tics_df.head()"
   ]
  },
  {
   "cell_type": "code",
   "execution_count": 11,
   "id": "f1f4514e",
   "metadata": {},
   "outputs": [],
   "source": [
    "# weights_df.head()"
   ]
  },
  {
   "cell_type": "code",
   "execution_count": 12,
   "id": "9290ef34",
   "metadata": {},
   "outputs": [],
   "source": [
    "# df = compute_weighted_df_simple(tics_df, weights_df)"
   ]
  },
  {
   "cell_type": "code",
   "execution_count": 13,
   "id": "34cca9c3",
   "metadata": {},
   "outputs": [],
   "source": [
    "dfs = []\n",
    "tics = []\n",
    "for i in range(6):\n",
    "    tics += tics_grouped[i]\n",
    "    name = short_name_sha256('_'.join(tics_grouped[i]))\n",
    "    tics_data_file = Path(\"data\") / 'sub' / f\"{name}_{start}_{end}.csv\"\n",
    "    weights_data_file = Path(\"weights\") / f\"{name}_{start}_{end}.csv\"\n",
    "    vaulue_data_file = Path(\"acount_value\") / f\"{name}_{start}_{end}.csv\"\n",
    "    tics_df = pd.read_csv(tics_data_file).drop_duplicates()\n",
    "    weights_df = pd.read_csv(weights_data_file).drop_duplicates()\n",
    "    value_df = pd.read_csv(vaulue_data_file).drop_duplicates()\n",
    "    dfs.append(compute_portfolio_ohlcv_with_values(tics_df, weights_df, value_df, name))"
   ]
  },
  {
   "cell_type": "code",
   "execution_count": 10,
   "id": "85b8da2f",
   "metadata": {},
   "outputs": [
    {
     "data": {
      "text/plain": [
       "['8190e4275b4db67d',\n",
       " '6439ac4bce64a477',\n",
       " '8d1de7fe38361930',\n",
       " '4fd6d6fada6e8ad6',\n",
       " 'ab78604f0f30eea2',\n",
       " '15694139a6dae4a8']"
      ]
     },
     "execution_count": 10,
     "metadata": {},
     "output_type": "execute_result"
    }
   ],
   "source": [
    "tics = []\n",
    "for group in tics_grouped:\n",
    "    tics.append(short_name_sha256('_'.join(group)))\n",
    "tics"
   ]
  },
  {
   "cell_type": "code",
   "execution_count": 11,
   "id": "2c8d78aa",
   "metadata": {},
   "outputs": [
    {
     "data": {
      "text/plain": [
       "'a677ab9f104974c6'"
      ]
     },
     "execution_count": 11,
     "metadata": {},
     "output_type": "execute_result"
    }
   ],
   "source": [
    "short_name_sha256('_'.join(tics))"
   ]
  },
  {
   "cell_type": "code",
   "execution_count": 12,
   "id": "3a265825",
   "metadata": {},
   "outputs": [
    {
     "ename": "NameError",
     "evalue": "name 'dfs' is not defined",
     "output_type": "error",
     "traceback": [
      "\u001b[0;31m---------------------------------------------------------------------------\u001b[0m",
      "\u001b[0;31mNameError\u001b[0m                                 Traceback (most recent call last)",
      "Cell \u001b[0;32mIn[12], line 1\u001b[0m\n\u001b[0;32m----> 1\u001b[0m pd\u001b[38;5;241m.\u001b[39mconcat(\u001b[43mdfs\u001b[49m)\u001b[38;5;241m.\u001b[39mto_csv(Path(\u001b[38;5;124m\"\u001b[39m\u001b[38;5;124mdata\u001b[39m\u001b[38;5;124m\"\u001b[39m) \u001b[38;5;241m/\u001b[39m \u001b[38;5;124m\"\u001b[39m\u001b[38;5;124mweighted_avg\u001b[39m\u001b[38;5;124m\"\u001b[39m \u001b[38;5;241m/\u001b[39m \u001b[38;5;124mf\u001b[39m\u001b[38;5;124m\"\u001b[39m\u001b[38;5;132;01m{\u001b[39;00mshort_name_sha256(\u001b[38;5;124m'\u001b[39m\u001b[38;5;124m_\u001b[39m\u001b[38;5;124m'\u001b[39m\u001b[38;5;241m.\u001b[39mjoin(tics))\u001b[38;5;132;01m}\u001b[39;00m\u001b[38;5;124m_\u001b[39m\u001b[38;5;132;01m{\u001b[39;00mstart\u001b[38;5;132;01m}\u001b[39;00m\u001b[38;5;124m_\u001b[39m\u001b[38;5;132;01m{\u001b[39;00mend\u001b[38;5;132;01m}\u001b[39;00m\u001b[38;5;124m.csv\u001b[39m\u001b[38;5;124m\"\u001b[39m, index\u001b[38;5;241m=\u001b[39m\u001b[38;5;28;01mFalse\u001b[39;00m)\n",
      "\u001b[0;31mNameError\u001b[0m: name 'dfs' is not defined"
     ]
    }
   ],
   "source": [
    "pd.concat(dfs).to_csv(Path(\"data\") / \"weighted_avg\" / f\"{short_name_sha256('_'.join(tics))}_{start}_{end}.csv\", index=False)"
   ]
  },
  {
   "cell_type": "code",
   "execution_count": null,
   "id": "0b75326d",
   "metadata": {},
   "outputs": [
    {
     "data": {
      "text/html": [
       "<div>\n",
       "<style scoped>\n",
       "    .dataframe tbody tr th:only-of-type {\n",
       "        vertical-align: middle;\n",
       "    }\n",
       "\n",
       "    .dataframe tbody tr th {\n",
       "        vertical-align: top;\n",
       "    }\n",
       "\n",
       "    .dataframe thead th {\n",
       "        text-align: right;\n",
       "    }\n",
       "</style>\n",
       "<table border=\"1\" class=\"dataframe\">\n",
       "  <thead>\n",
       "    <tr style=\"text-align: right;\">\n",
       "      <th></th>\n",
       "      <th>date</th>\n",
       "      <th>open</th>\n",
       "      <th>high</th>\n",
       "      <th>low</th>\n",
       "      <th>close</th>\n",
       "      <th>volume</th>\n",
       "      <th>tic</th>\n",
       "      <th>day</th>\n",
       "    </tr>\n",
       "  </thead>\n",
       "  <tbody>\n",
       "    <tr>\n",
       "      <th>15790</th>\n",
       "      <td>2009-03-18</td>\n",
       "      <td>1055987.60</td>\n",
       "      <td>1.091739e+06</td>\n",
       "      <td>1.007241e+06</td>\n",
       "      <td>1084510.6</td>\n",
       "      <td>4.698481e+11</td>\n",
       "      <td>15694139a6dae4a8</td>\n",
       "      <td>2</td>\n",
       "    </tr>\n",
       "    <tr>\n",
       "      <th>9474</th>\n",
       "      <td>2009-03-18</td>\n",
       "      <td>1045677.90</td>\n",
       "      <td>1.059972e+06</td>\n",
       "      <td>9.938025e+05</td>\n",
       "      <td>1072509.8</td>\n",
       "      <td>7.353948e+11</td>\n",
       "      <td>4fd6d6fada6e8ad6</td>\n",
       "      <td>2</td>\n",
       "    </tr>\n",
       "    <tr>\n",
       "      <th>3158</th>\n",
       "      <td>2009-03-18</td>\n",
       "      <td>1009651.94</td>\n",
       "      <td>1.120186e+06</td>\n",
       "      <td>9.561738e+05</td>\n",
       "      <td>1094467.9</td>\n",
       "      <td>6.891846e+12</td>\n",
       "      <td>6439ac4bce64a477</td>\n",
       "      <td>2</td>\n",
       "    </tr>\n",
       "    <tr>\n",
       "      <th>0</th>\n",
       "      <td>2009-03-18</td>\n",
       "      <td>1037264.40</td>\n",
       "      <td>1.043336e+06</td>\n",
       "      <td>9.808129e+05</td>\n",
       "      <td>1056196.0</td>\n",
       "      <td>7.279017e+11</td>\n",
       "      <td>8190e4275b4db67d</td>\n",
       "      <td>2</td>\n",
       "    </tr>\n",
       "    <tr>\n",
       "      <th>6316</th>\n",
       "      <td>2009-03-18</td>\n",
       "      <td>1032019.44</td>\n",
       "      <td>1.027429e+06</td>\n",
       "      <td>9.769944e+05</td>\n",
       "      <td>1042918.5</td>\n",
       "      <td>2.336070e+12</td>\n",
       "      <td>8d1de7fe38361930</td>\n",
       "      <td>2</td>\n",
       "    </tr>\n",
       "    <tr>\n",
       "      <th>12632</th>\n",
       "      <td>2009-03-18</td>\n",
       "      <td>1036860.25</td>\n",
       "      <td>1.028091e+06</td>\n",
       "      <td>9.763497e+05</td>\n",
       "      <td>1060278.5</td>\n",
       "      <td>2.924771e+14</td>\n",
       "      <td>ab78604f0f30eea2</td>\n",
       "      <td>2</td>\n",
       "    </tr>\n",
       "  </tbody>\n",
       "</table>\n",
       "</div>"
      ],
      "text/plain": [
       "             date        open          high           low      close  \\\n",
       "15790  2009-03-18  1055987.60  1.091739e+06  1.007241e+06  1084510.6   \n",
       "9474   2009-03-18  1045677.90  1.059972e+06  9.938025e+05  1072509.8   \n",
       "3158   2009-03-18  1009651.94  1.120186e+06  9.561738e+05  1094467.9   \n",
       "0      2009-03-18  1037264.40  1.043336e+06  9.808129e+05  1056196.0   \n",
       "6316   2009-03-18  1032019.44  1.027429e+06  9.769944e+05  1042918.5   \n",
       "12632  2009-03-18  1036860.25  1.028091e+06  9.763497e+05  1060278.5   \n",
       "\n",
       "             volume               tic  day  \n",
       "15790  4.698481e+11  15694139a6dae4a8    2  \n",
       "9474   7.353948e+11  4fd6d6fada6e8ad6    2  \n",
       "3158   6.891846e+12  6439ac4bce64a477    2  \n",
       "0      7.279017e+11  8190e4275b4db67d    2  \n",
       "6316   2.336070e+12  8d1de7fe38361930    2  \n",
       "12632  2.924771e+14  ab78604f0f30eea2    2  "
      ]
     },
     "execution_count": 13,
     "metadata": {},
     "output_type": "execute_result"
    }
   ],
   "source": [
    "df = pd.read_csv(Path(\"data\") / \"weighted_avg\" / f\"{short_name_sha256('_'.join(tics))}_{start}_{end}.csv\")\n",
    "df.sort_values(['date', 'tic']).head(6)"
   ]
  },
  {
   "cell_type": "code",
   "execution_count": null,
   "id": "f0ad2f41",
   "metadata": {},
   "outputs": [],
   "source": []
  }
 ],
 "metadata": {
  "kernelspec": {
   "display_name": "ai4finance",
   "language": "python",
   "name": "python3"
  },
  "language_info": {
   "codemirror_mode": {
    "name": "ipython",
    "version": 3
   },
   "file_extension": ".py",
   "mimetype": "text/x-python",
   "name": "python",
   "nbconvert_exporter": "python",
   "pygments_lexer": "ipython3",
   "version": "3.8.20"
  }
 },
 "nbformat": 4,
 "nbformat_minor": 5
}
