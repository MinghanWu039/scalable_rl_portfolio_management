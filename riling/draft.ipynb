{
 "cells": [
  {
   "cell_type": "code",
   "execution_count": 19,
   "id": "c0bfcb5d",
   "metadata": {},
   "outputs": [
    {
     "name": "stdout",
     "output_type": "stream",
     "text": [
      "The autoreload extension is already loaded. To reload it, use:\n",
      "  %reload_ext autoreload\n"
     ]
    }
   ],
   "source": [
    "%load_ext autoreload\n",
    "%autoreload 2"
   ]
  },
  {
   "cell_type": "code",
   "execution_count": 20,
   "id": "d14e75d9",
   "metadata": {},
   "outputs": [],
   "source": [
    "import numpy as np\n",
    "import pandas as pd"
   ]
  },
  {
   "cell_type": "code",
   "execution_count": 21,
   "id": "68e02c4d",
   "metadata": {},
   "outputs": [],
   "source": [
    "from agent.scalable_model import Scalable\n",
    "from tics.tic_config import tics_176"
   ]
  },
  {
   "cell_type": "code",
   "execution_count": 22,
   "id": "885d711c",
   "metadata": {},
   "outputs": [],
   "source": [
    "tics = np.unique(tics_176).tolist()\n",
    "train_start_date = '2009-01-01'\n",
    "train_end_date = '2020-07-01'"
   ]
  },
  {
   "cell_type": "code",
   "execution_count": 23,
   "id": "875c4345",
   "metadata": {},
   "outputs": [],
   "source": [
    "model = Scalable(None, None)"
   ]
  },
  {
   "cell_type": "code",
   "execution_count": 24,
   "id": "9651b1e2",
   "metadata": {},
   "outputs": [],
   "source": [
    "model.train(tics, train_start_date, train_end_date)"
   ]
  },
  {
   "cell_type": "code",
   "execution_count": 25,
   "id": "37ee6cb8",
   "metadata": {},
   "outputs": [
    {
     "data": {
      "text/plain": [
       "[31, 25, 35, 35, 25, 25]"
      ]
     },
     "execution_count": 25,
     "metadata": {},
     "output_type": "execute_result"
    }
   ],
   "source": [
    "[len(lst) for lst in model.tics_lst]"
   ]
  },
  {
   "cell_type": "code",
   "execution_count": 30,
   "id": "713740c2",
   "metadata": {},
   "outputs": [
    {
     "data": {
      "text/plain": [
       "['ALNY',\n",
       " 'AMD',\n",
       " 'BA',\n",
       " 'BIDU',\n",
       " 'CAT',\n",
       " 'CVLT',\n",
       " 'CVX',\n",
       " 'ERIC',\n",
       " 'EXPE',\n",
       " 'GEO',\n",
       " 'GS',\n",
       " 'HAS',\n",
       " 'HEES',\n",
       " 'IBM',\n",
       " 'IDCC',\n",
       " 'IMBBY',\n",
       " 'JPM',\n",
       " 'LBTYK',\n",
       " 'MAR',\n",
       " 'MRCY',\n",
       " 'MSTR',\n",
       " 'MU',\n",
       " 'NTAP',\n",
       " 'TCOM',\n",
       " 'TDS',\n",
       " 'TKO',\n",
       " 'TMUS',\n",
       " 'UAL',\n",
       " 'USM',\n",
       " 'WBA',\n",
       " 'WDC']"
      ]
     },
     "execution_count": 30,
     "metadata": {},
     "output_type": "execute_result"
    }
   ],
   "source": [
    "model.tics_lst[0]"
   ]
  },
  {
   "cell_type": "code",
   "execution_count": 27,
   "id": "be0bf8bb",
   "metadata": {},
   "outputs": [
    {
     "data": {
      "text/html": [
       "<div>\n",
       "<style scoped>\n",
       "    .dataframe tbody tr th:only-of-type {\n",
       "        vertical-align: middle;\n",
       "    }\n",
       "\n",
       "    .dataframe tbody tr th {\n",
       "        vertical-align: top;\n",
       "    }\n",
       "\n",
       "    .dataframe thead th {\n",
       "        text-align: right;\n",
       "    }\n",
       "</style>\n",
       "<table border=\"1\" class=\"dataframe\">\n",
       "  <thead>\n",
       "    <tr style=\"text-align: right;\">\n",
       "      <th></th>\n",
       "      <th>date</th>\n",
       "      <th>close</th>\n",
       "      <th>high</th>\n",
       "      <th>low</th>\n",
       "      <th>open</th>\n",
       "      <th>volume</th>\n",
       "      <th>tic</th>\n",
       "      <th>day</th>\n",
       "    </tr>\n",
       "  </thead>\n",
       "  <tbody>\n",
       "    <tr>\n",
       "      <th>0</th>\n",
       "      <td>2009-01-02</td>\n",
       "      <td>7.909601</td>\n",
       "      <td>8.480000</td>\n",
       "      <td>7.670000</td>\n",
       "      <td>7.730000</td>\n",
       "      <td>5167000</td>\n",
       "      <td>AAL</td>\n",
       "      <td>4</td>\n",
       "    </tr>\n",
       "    <tr>\n",
       "      <th>1</th>\n",
       "      <td>2009-01-02</td>\n",
       "      <td>2.730994</td>\n",
       "      <td>3.251429</td>\n",
       "      <td>3.041429</td>\n",
       "      <td>3.067143</td>\n",
       "      <td>746015200</td>\n",
       "      <td>AAPL</td>\n",
       "      <td>4</td>\n",
       "    </tr>\n",
       "    <tr>\n",
       "      <th>2</th>\n",
       "      <td>2009-01-02</td>\n",
       "      <td>23.020000</td>\n",
       "      <td>23.100000</td>\n",
       "      <td>21.070000</td>\n",
       "      <td>21.110001</td>\n",
       "      <td>6670700</td>\n",
       "      <td>ADBE</td>\n",
       "      <td>4</td>\n",
       "    </tr>\n",
       "    <tr>\n",
       "      <th>3</th>\n",
       "      <td>2009-01-02</td>\n",
       "      <td>13.315101</td>\n",
       "      <td>19.780001</td>\n",
       "      <td>18.760000</td>\n",
       "      <td>19.000000</td>\n",
       "      <td>3264900</td>\n",
       "      <td>ADI</td>\n",
       "      <td>4</td>\n",
       "    </tr>\n",
       "    <tr>\n",
       "      <th>4</th>\n",
       "      <td>2009-01-02</td>\n",
       "      <td>23.842716</td>\n",
       "      <td>35.548725</td>\n",
       "      <td>34.205444</td>\n",
       "      <td>34.784901</td>\n",
       "      <td>4021809</td>\n",
       "      <td>ADP</td>\n",
       "      <td>4</td>\n",
       "    </tr>\n",
       "  </tbody>\n",
       "</table>\n",
       "</div>"
      ],
      "text/plain": [
       "         date      close       high        low       open     volume   tic  \\\n",
       "0  2009-01-02   7.909601   8.480000   7.670000   7.730000    5167000   AAL   \n",
       "1  2009-01-02   2.730994   3.251429   3.041429   3.067143  746015200  AAPL   \n",
       "2  2009-01-02  23.020000  23.100000  21.070000  21.110001    6670700  ADBE   \n",
       "3  2009-01-02  13.315101  19.780001  18.760000  19.000000    3264900   ADI   \n",
       "4  2009-01-02  23.842716  35.548725  34.205444  34.784901    4021809   ADP   \n",
       "\n",
       "   day  \n",
       "0    4  \n",
       "1    4  \n",
       "2    4  \n",
       "3    4  \n",
       "4    4  "
      ]
     },
     "execution_count": 27,
     "metadata": {},
     "output_type": "execute_result"
    }
   ],
   "source": [
    "model.data.head()"
   ]
  }
 ],
 "metadata": {
  "kernelspec": {
   "display_name": "ai4finance",
   "language": "python",
   "name": "python3"
  },
  "language_info": {
   "codemirror_mode": {
    "name": "ipython",
    "version": 3
   },
   "file_extension": ".py",
   "mimetype": "text/x-python",
   "name": "python",
   "nbconvert_exporter": "python",
   "pygments_lexer": "ipython3",
   "version": "3.8.20"
  }
 },
 "nbformat": 4,
 "nbformat_minor": 5
}
