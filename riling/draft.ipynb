{
 "cells": [
  {
   "cell_type": "code",
   "execution_count": 1,
   "id": "c0bfcb5d",
   "metadata": {},
   "outputs": [],
   "source": [
    "%load_ext autoreload\n",
    "%autoreload 2"
   ]
  },
  {
   "cell_type": "code",
   "execution_count": 2,
   "id": "d14e75d9",
   "metadata": {},
   "outputs": [],
   "source": [
    "import numpy as np\n",
    "import pandas as pd"
   ]
  },
  {
   "cell_type": "code",
   "execution_count": 3,
   "id": "68e02c4d",
   "metadata": {},
   "outputs": [],
   "source": [
    "from agent.scalable_model import Scalable\n",
    "from tics.tic_config import tics_176"
   ]
  },
  {
   "cell_type": "code",
   "execution_count": 4,
   "id": "885d711c",
   "metadata": {},
   "outputs": [],
   "source": [
    "tics = np.unique(tics_176).tolist()\n",
    "train_start_date = '2009-01-01'\n",
    "train_end_date = '2020-07-01'"
   ]
  },
  {
   "cell_type": "code",
   "execution_count": 5,
   "id": "875c4345",
   "metadata": {},
   "outputs": [],
   "source": [
    "model = Scalable(None, None)"
   ]
  },
  {
   "cell_type": "code",
   "execution_count": 6,
   "id": "9651b1e2",
   "metadata": {},
   "outputs": [],
   "source": [
    "model.train(tics, train_start_date, train_end_date)"
   ]
  },
  {
   "cell_type": "code",
   "execution_count": 7,
   "id": "db939432",
   "metadata": {},
   "outputs": [
    {
     "data": {
      "text/plain": [
       "176"
      ]
     },
     "execution_count": 7,
     "metadata": {},
     "output_type": "execute_result"
    }
   ],
   "source": [
    "sum([len(lst) for lst in model.tics_lst])"
   ]
  },
  {
   "cell_type": "code",
   "execution_count": 8,
   "id": "37ee6cb8",
   "metadata": {},
   "outputs": [
    {
     "data": {
      "text/plain": [
       "[30, 20, 20, 20, 30, 30, 26]"
      ]
     },
     "execution_count": 8,
     "metadata": {},
     "output_type": "execute_result"
    }
   ],
   "source": [
    "[len(lst) for lst in model.tics_lst]"
   ]
  },
  {
   "cell_type": "code",
   "execution_count": 9,
   "id": "0b294f49",
   "metadata": {},
   "outputs": [],
   "source": [
    "for lst in model.tics_lst:\n",
    "    a = lst"
   ]
  },
  {
   "cell_type": "code",
   "execution_count": 10,
   "id": "93386c3f",
   "metadata": {},
   "outputs": [
    {
     "data": {
      "text/plain": [
       "['ALNY',\n",
       " 'BA',\n",
       " 'CNK',\n",
       " 'CVLT',\n",
       " 'CVX',\n",
       " 'EAT',\n",
       " 'ERIC',\n",
       " 'EXEL',\n",
       " 'GEO',\n",
       " 'GGAL',\n",
       " 'HEES',\n",
       " 'HURN',\n",
       " 'IDCC',\n",
       " 'IMBBY',\n",
       " 'KTOS',\n",
       " 'LBTYK',\n",
       " 'LRN',\n",
       " 'LUMN',\n",
       " 'NTDOY',\n",
       " 'RCL',\n",
       " 'TBBK',\n",
       " 'TCOM',\n",
       " 'TDS',\n",
       " 'UAL',\n",
       " 'USM',\n",
       " 'WDC']"
      ]
     },
     "execution_count": 10,
     "metadata": {},
     "output_type": "execute_result"
    }
   ],
   "source": [
    "a"
   ]
  }
 ],
 "metadata": {
  "kernelspec": {
   "display_name": "ai4finance",
   "language": "python",
   "name": "python3"
  },
  "language_info": {
   "codemirror_mode": {
    "name": "ipython",
    "version": 3
   },
   "file_extension": ".py",
   "mimetype": "text/x-python",
   "name": "python",
   "nbconvert_exporter": "python",
   "pygments_lexer": "ipython3",
   "version": "3.8.20"
  }
 },
 "nbformat": 4,
 "nbformat_minor": 5
}
