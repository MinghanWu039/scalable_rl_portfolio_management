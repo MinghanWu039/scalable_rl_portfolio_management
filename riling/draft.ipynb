{
 "cells": [
  {
   "cell_type": "code",
   "execution_count": 5,
   "id": "c0bfcb5d",
   "metadata": {},
   "outputs": [],
   "source": [
    "%load_ext autoreload\n",
    "%autoreload 2"
   ]
  },
  {
   "cell_type": "code",
   "execution_count": 6,
   "id": "d14e75d9",
   "metadata": {},
   "outputs": [],
   "source": [
    "import numpy as np\n",
    "import pandas as pd"
   ]
  },
  {
   "cell_type": "code",
   "execution_count": null,
   "id": "68e02c4d",
   "metadata": {},
   "outputs": [],
   "source": [
    "from agent.scalable_model import Scalable\n",
    "from tics.tic_config import tics_176, tics_grouped\n",
    "from agent.data_downloader import short_name_sha256"
   ]
  },
  {
   "cell_type": "code",
   "execution_count": null,
   "id": "885d711c",
   "metadata": {},
   "outputs": [],
   "source": [
    "tics = np.unique(tics_176).tolist()\n",
    "train_start_date= '2009-01-01'\n",
    "train_end_date= '2020-07-01'\n",
    "test_start_date= '2020-07-01'\n",
    "test_end_date= '2021-10-01'"
   ]
  },
  {
   "cell_type": "code",
   "execution_count": 9,
   "id": "875c4345",
   "metadata": {},
   "outputs": [],
   "source": [
    "model = Scalable(None, None)"
   ]
  },
  {
   "cell_type": "code",
   "execution_count": null,
   "id": "9651b1e2",
   "metadata": {},
   "outputs": [],
   "source": [
    "model.train(tics, train_start_date, test_end_date)"
   ]
  },
  {
   "cell_type": "code",
   "execution_count": 11,
   "id": "37ee6cb8",
   "metadata": {},
   "outputs": [
    {
     "data": {
      "text/plain": [
       "[31, 25, 35, 35, 25, 25]"
      ]
     },
     "execution_count": 11,
     "metadata": {},
     "output_type": "execute_result"
    }
   ],
   "source": [
    "[len(lst) for lst in model.tics_lst]"
   ]
  },
  {
   "cell_type": "code",
   "execution_count": 1,
   "id": "c011432c",
   "metadata": {},
   "outputs": [
    {
     "ename": "NameError",
     "evalue": "name 'tics_grouped' is not defined",
     "output_type": "error",
     "traceback": [
      "\u001b[0;31m---------------------------------------------------------------------------\u001b[0m",
      "\u001b[0;31mNameError\u001b[0m                                 Traceback (most recent call last)",
      "Cell \u001b[0;32mIn[1], line 3\u001b[0m\n\u001b[1;32m      1\u001b[0m tics_subset \u001b[38;5;241m=\u001b[39m []\n\u001b[1;32m      2\u001b[0m \u001b[38;5;28;01mfor\u001b[39;00m i \u001b[38;5;129;01min\u001b[39;00m \u001b[38;5;28mrange\u001b[39m(\u001b[38;5;241m2\u001b[39m):\n\u001b[0;32m----> 3\u001b[0m     tics_subset \u001b[38;5;241m+\u001b[39m\u001b[38;5;241m=\u001b[39m \u001b[43mtics_grouped\u001b[49m[i]\n",
      "\u001b[0;31mNameError\u001b[0m: name 'tics_grouped' is not defined"
     ]
    }
   ],
   "source": [
    "tics_subset = []\n",
    "for i in range(2):\n",
    "    tics_subset += tics_grouped[i]\n"
   ]
  },
  {
   "cell_type": "code",
   "execution_count": null,
   "id": "7197bcc1",
   "metadata": {},
   "outputs": [],
   "source": []
  }
 ],
 "metadata": {
  "kernelspec": {
   "display_name": "ai4finance",
   "language": "python",
   "name": "python3"
  },
  "language_info": {
   "codemirror_mode": {
    "name": "ipython",
    "version": 3
   },
   "file_extension": ".py",
   "mimetype": "text/x-python",
   "name": "python",
   "nbconvert_exporter": "python",
   "pygments_lexer": "ipython3",
   "version": "3.8.20"
  }
 },
 "nbformat": 4,
 "nbformat_minor": 5
}
