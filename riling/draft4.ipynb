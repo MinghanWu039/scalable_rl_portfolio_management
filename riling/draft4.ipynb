{
 "cells": [
  {
   "cell_type": "code",
   "execution_count": null,
   "id": "c551a1a5",
   "metadata": {},
   "outputs": [
    {
     "name": "stdout",
     "output_type": "stream",
     "text": [
      "The autoreload extension is already loaded. To reload it, use:\n",
      "  %reload_ext autoreload\n"
     ]
    }
   ],
   "source": [
    "%load_ext autoreload\n",
    "%autoreload 2"
   ]
  },
  {
   "cell_type": "code",
   "execution_count": null,
   "id": "2e9143bb",
   "metadata": {},
   "outputs": [],
   "source": [
    "import numpy as np\n",
    "import pandas as pd\n",
    "from pathlib import Path"
   ]
  },
  {
   "cell_type": "code",
   "execution_count": null,
   "id": "77d45931",
   "metadata": {},
   "outputs": [],
   "source": [
    "import sys\n",
    "sys.path.append(\"/dsmlp/home-fs04/19/019/riling/scalable_rl_portfolio_management\")\n"
   ]
  },
  {
   "cell_type": "code",
   "execution_count": null,
   "id": "3e11a341",
   "metadata": {},
   "outputs": [],
   "source": [
    "from tics.tic_config import tics_176, tics_grouped\n",
    "from agent.data_downloader import short_name_sha256"
   ]
  },
  {
   "cell_type": "code",
   "execution_count": 47,
   "id": "e521513e",
   "metadata": {},
   "outputs": [],
   "source": [
    "train_start_date= '2009-01-01'\n",
    "train_end_date= '2020-07-01'\n",
    "# test_start_date= '2020-07-01'\n",
    "test_start_date = '2021-07-01'\n",
    "test_end_date= '2024-10-01'"
   ]
  },
  {
   "cell_type": "code",
   "execution_count": 48,
   "id": "09e35a5f",
   "metadata": {},
   "outputs": [],
   "source": [
    "start = test_start_date\n",
    "end = test_end_date"
   ]
  },
  {
   "cell_type": "code",
   "execution_count": 78,
   "id": "a7b11b1c",
   "metadata": {},
   "outputs": [
    {
     "data": {
      "text/html": [
       "<div>\n",
       "<style scoped>\n",
       "    .dataframe tbody tr th:only-of-type {\n",
       "        vertical-align: middle;\n",
       "    }\n",
       "\n",
       "    .dataframe tbody tr th {\n",
       "        vertical-align: top;\n",
       "    }\n",
       "\n",
       "    .dataframe thead th {\n",
       "        text-align: right;\n",
       "    }\n",
       "</style>\n",
       "<table border=\"1\" class=\"dataframe\">\n",
       "  <thead>\n",
       "    <tr style=\"text-align: right;\">\n",
       "      <th></th>\n",
       "      <th>Annual Return</th>\n",
       "      <th>Cumulative Returns</th>\n",
       "      <th>Annual Volatility</th>\n",
       "      <th>Sharpe Ratio</th>\n",
       "      <th>Stability</th>\n",
       "      <th>Max Drawdown</th>\n",
       "    </tr>\n",
       "  </thead>\n",
       "  <tbody>\n",
       "    <tr>\n",
       "      <th>Manager</th>\n",
       "      <td>0.134</td>\n",
       "      <td>0.468</td>\n",
       "      <td>0.146</td>\n",
       "      <td>0.936</td>\n",
       "      <td>0.714</td>\n",
       "      <td>-0.177</td>\n",
       "    </tr>\n",
       "    <tr>\n",
       "      <th>Dow Jones</th>\n",
       "      <td>0.066</td>\n",
       "      <td>0.215</td>\n",
       "      <td>0.148</td>\n",
       "      <td>0.509</td>\n",
       "      <td>0.407</td>\n",
       "      <td>-0.219</td>\n",
       "    </tr>\n",
       "  </tbody>\n",
       "</table>\n",
       "</div>"
      ],
      "text/plain": [
       "          Annual Return Cumulative Returns Annual Volatility Sharpe Ratio  \\\n",
       "Manager           0.134              0.468             0.146        0.936   \n",
       "Dow Jones         0.066              0.215             0.148        0.509   \n",
       "\n",
       "          Stability Max Drawdown  \n",
       "Manager       0.714       -0.177  \n",
       "Dow Jones     0.407       -0.219  "
      ]
     },
     "execution_count": 78,
     "metadata": {},
     "output_type": "execute_result"
    }
   ],
   "source": [
    "df = pd.read_csv(Path('backtest') / '21-24' / 'manager.csv')\n",
    "\n",
    "df = df.set_index('Unnamed: 0')\n",
    "df.index = df.index.str.title()\n",
    "\n",
    "df = df.dropna()\n",
    "\n",
    "df = df.round(3).applymap(lambda x: f\"{x:.3f}\")\n",
    "\n",
    "df.index.name = None\n",
    "\n",
    "# Rename columns\n",
    "df = df.rename(columns={\n",
    "    '0_model': 'Manager',\n",
    "    '0_baseline': 'Dow Jones'\n",
    "})\n",
    "\n",
    "df = df.T[['Annual Return', 'Cumulative Returns', 'Annual Volatility', 'Sharpe Ratio', 'Stability', 'Max Drawdown']]\n",
    "\n",
    "df"
   ]
  },
  {
   "cell_type": "code",
   "execution_count": null,
   "id": "a935893c",
   "metadata": {},
   "outputs": [],
   "source": [
    "# df.to_csv('Manger_results.csv')"
   ]
  },
  {
   "cell_type": "code",
   "execution_count": 82,
   "id": "3da7ea72",
   "metadata": {},
   "outputs": [
    {
     "data": {
      "text/html": [
       "<div>\n",
       "<style scoped>\n",
       "    .dataframe tbody tr th:only-of-type {\n",
       "        vertical-align: middle;\n",
       "    }\n",
       "\n",
       "    .dataframe tbody tr th {\n",
       "        vertical-align: top;\n",
       "    }\n",
       "\n",
       "    .dataframe thead th {\n",
       "        text-align: right;\n",
       "    }\n",
       "</style>\n",
       "<table border=\"1\" class=\"dataframe\">\n",
       "  <thead>\n",
       "    <tr style=\"text-align: right;\">\n",
       "      <th></th>\n",
       "      <th>Group 1</th>\n",
       "      <th>Group 2</th>\n",
       "      <th>Group 3</th>\n",
       "      <th>Group 4</th>\n",
       "      <th>Group 5</th>\n",
       "      <th>Group 6</th>\n",
       "      <th>Manager</th>\n",
       "      <th>Dow Jones</th>\n",
       "    </tr>\n",
       "  </thead>\n",
       "  <tbody>\n",
       "    <tr>\n",
       "      <th>Annual Return</th>\n",
       "      <td>0.151</td>\n",
       "      <td>0.288</td>\n",
       "      <td>0.120</td>\n",
       "      <td>0.090</td>\n",
       "      <td>0.103</td>\n",
       "      <td>0.268</td>\n",
       "      <td>0.134</td>\n",
       "      <td>0.066</td>\n",
       "    </tr>\n",
       "    <tr>\n",
       "      <th>Sharpe Ratio</th>\n",
       "      <td>0.829</td>\n",
       "      <td>1.226</td>\n",
       "      <td>0.791</td>\n",
       "      <td>0.608</td>\n",
       "      <td>0.597</td>\n",
       "      <td>1.043</td>\n",
       "      <td>0.936</td>\n",
       "      <td>0.509</td>\n",
       "    </tr>\n",
       "  </tbody>\n",
       "</table>\n",
       "</div>"
      ],
      "text/plain": [
       "              Group 1 Group 2 Group 3 Group 4 Group 5 Group 6 Manager  \\\n",
       "Annual Return   0.151   0.288   0.120   0.090   0.103   0.268   0.134   \n",
       "Sharpe Ratio    0.829   1.226   0.791   0.608   0.597   1.043   0.936   \n",
       "\n",
       "              Dow Jones  \n",
       "Annual Return     0.066  \n",
       "Sharpe Ratio      0.509  "
      ]
     },
     "execution_count": 82,
     "metadata": {},
     "output_type": "execute_result"
    }
   ],
   "source": [
    "df = pd.read_csv(Path('backtest') / '21-24' / 'manager.csv')\n",
    "\n",
    "df = df.set_index('Unnamed: 0')\n",
    "df.index = df.index.str.title()\n",
    "\n",
    "dfs = []\n",
    "tics = []\n",
    "for i in range(6):\n",
    "    dfs.append(pd.read_csv(Path('backtest') / '21-24' / f'backtest_group{i}.csv'))\n",
    "\n",
    "df_all = pd.DataFrame({\n",
    "    'Annual Return': [df['0_model'][0] for df in dfs] + df.loc['Annual Return'].tolist(),\n",
    "    'Sharpe Ratio': [df['0_model'][3] for df in dfs] + df.loc['Sharpe Ratio'].tolist(),\n",
    "}, index=['Group 1', 'Group 2', 'Group 3', 'Group 4', 'Group 5', 'Group 6'] + ['Manager', 'Dow Jones'])\n",
    "\n",
    "df_all = df_all.round(3).applymap(lambda x: f\"{x:.3f}\")\n",
    "\n",
    "df_all.T"
   ]
  },
  {
   "cell_type": "code",
   "execution_count": 83,
   "id": "798e0de1",
   "metadata": {},
   "outputs": [],
   "source": [
    "df_all.T.to_csv('All_results.csv')"
   ]
  },
  {
   "cell_type": "code",
   "execution_count": null,
   "id": "30be34ec",
   "metadata": {},
   "outputs": [],
   "source": []
  }
 ],
 "metadata": {
  "language_info": {
   "name": "python"
  }
 },
 "nbformat": 4,
 "nbformat_minor": 5
}
